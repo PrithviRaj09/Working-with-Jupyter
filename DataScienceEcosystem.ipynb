{
 "cells": [
  {
   "cell_type": "markdown",
   "id": "6248297e",
   "metadata": {},
   "source": [
    "# Data Science Tools and Ecosystem\n"
   ]
  },
  {
   "cell_type": "markdown",
   "id": "6689b667",
   "metadata": {},
   "source": [
    "In this notebook, Data Science Tools and Ecosystem are summarized."
   ]
  },
  {
   "cell_type": "markdown",
   "id": "549c7ba5",
   "metadata": {},
   "source": [
    "## Data Science Languages\n",
    "\n",
    "- Python\n",
    "- R\n",
    "- SQL\n"
   ]
  },
  {
   "cell_type": "markdown",
   "id": "cdd3abec",
   "metadata": {},
   "source": [
    "## Data Science Libraries\n",
    "\n",
    "- Pandas\n",
    "- NumPy\n",
    "- Scikit-learn\n",
    "- TensorFlow\n",
    "- Keras\n",
    "- Matplotlib\n",
    "- Seaborn\n"
   ]
  },
  {
   "cell_type": "markdown",
   "id": "e43439cf",
   "metadata": {},
   "source": [
    "## Data Science Tools\n",
    "\n",
    "| Category          | Tools                              |\n",
    "|-------------------|------------------------------------|\n",
    "| Programming       | Python, R, SQL                     |\n",
    "| Data Manipulation | Pandas, NumPy                      |\n",
    "| Machine Learning  | Scikit-learn, TensorFlow, Keras    |\n",
    "| Data Visualization| Matplotlib, Seaborn                |\n"
   ]
  },
  {
   "cell_type": "markdown",
   "id": "efe4276d",
   "metadata": {},
   "source": [
    "### Arithmetic Expression Examples\n",
    "\n",
    "In this section, we'll showcase examples of basic arithmetic expressions using Python.\n"
   ]
  },
  {
   "cell_type": "code",
   "execution_count": 7,
   "id": "7def40d8",
   "metadata": {},
   "outputs": [
    {
     "name": "stdout",
     "output_type": "stream",
     "text": [
      "Multiplication of a and b is : 15\n",
      "Addition of a and b is : 8\n"
     ]
    }
   ],
   "source": [
    "# Multiply and add numbers\n",
    "a = 5\n",
    "b = 3\n",
    "multiply_result = a * b\n",
    "add_result = a + b\n",
    "print(\"Multiplication of a and b is :\", multiply_result)\n",
    "print(\"Addition of a and b is :\", add_result)\n"
   ]
  },
  {
   "cell_type": "code",
   "execution_count": 8,
   "id": "3047341b",
   "metadata": {},
   "outputs": [
    {
     "name": "stdout",
     "output_type": "stream",
     "text": [
      "120 minutes is equal to 2.0 hours\n"
     ]
    }
   ],
   "source": [
    "# Convert minutes to hours\n",
    "minutes = 120\n",
    "hours = minutes / 60\n",
    "print(\"120 minutes is equal to\", hours, \"hours\")\n"
   ]
  },
  {
   "cell_type": "markdown",
   "id": "50c05a40",
   "metadata": {},
   "source": [
    "## Objectives\n",
    "\n",
    "1. Gather and preprocess relevant data.\n",
    "2. Perform exploratory data analysis (EDA).\n",
    "3. Develop a predictive model for patient readmissions.\n",
    "4. Evaluate model performance.\n",
    "5. Present findings and recommendations.\n"
   ]
  },
  {
   "cell_type": "markdown",
   "id": "a91a7402",
   "metadata": {},
   "source": [
    "## Author\n",
    "\n",
    "[ K T Prithvi Raj Kumar Naidu ]\n"
   ]
  },
  {
   "cell_type": "code",
   "execution_count": null,
   "id": "f926a302",
   "metadata": {},
   "outputs": [],
   "source": []
  }
 ],
 "metadata": {
  "kernelspec": {
   "display_name": "Python 3 (ipykernel)",
   "language": "python",
   "name": "python3"
  },
  "language_info": {
   "codemirror_mode": {
    "name": "ipython",
    "version": 3
   },
   "file_extension": ".py",
   "mimetype": "text/x-python",
   "name": "python",
   "nbconvert_exporter": "python",
   "pygments_lexer": "ipython3",
   "version": "3.11.5"
  }
 },
 "nbformat": 4,
 "nbformat_minor": 5
}
